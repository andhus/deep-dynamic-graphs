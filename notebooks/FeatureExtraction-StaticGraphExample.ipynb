{
 "cells": [
  {
   "cell_type": "markdown",
   "metadata": {},
   "source": [
    "## RNN Feature extraction from sequences with various types of input using Pure TF"
   ]
  },
  {
   "cell_type": "code",
   "execution_count": 3,
   "metadata": {
    "collapsed": true,
    "deletable": true,
    "editable": true
   },
   "outputs": [],
   "source": [
    "# boilerplate\n",
    "import numpy as np\n",
    "import tensorflow as tf\n",
    "\n",
    "sess = tf.InteractiveSession()\n",
    "#import tensorflow_fold as td"
   ]
  },
  {
   "cell_type": "code",
   "execution_count": 4,
   "metadata": {
    "collapsed": true,
    "deletable": true,
    "editable": true
   },
   "outputs": [],
   "source": [
    "RNN_FEATURE_SIZE = 4\n",
    "A_SIZE = 3\n",
    "B_SIZE = 5\n",
    "\n",
    "input_sequence = [\n",
    "    {'type': 'A', 'data': [1, 2, 3]},\n",
    "    {'type': 'B', 'data': [5, 4, 3, 2, 1]},\n",
    "    {'type': 'A', 'data': [3, 2, 1]},\n",
    "]"
   ]
  },
  {
   "cell_type": "code",
   "execution_count": 5,
   "metadata": {
    "collapsed": false,
    "deletable": true,
    "editable": true
   },
   "outputs": [],
   "source": [
    "inputs_A = tf.placeholder('float32', shape=(None, None, A_SIZE), name='inputs_A')\n",
    "inputs_B = tf.placeholder('float32', shape=(None, None, B_SIZE), name='inputs_B')\n",
    "\n",
    "feature_from_A = tf.layers.dense(inputs_A, RNN_FEATURE_SIZE, activation=tf.nn.relu)\n",
    "feature_from_B = tf.layers.dense(inputs_B, RNN_FEATURE_SIZE, activation=tf.nn.relu)"
   ]
  },
  {
   "cell_type": "code",
   "execution_count": 6,
   "metadata": {
    "collapsed": false,
    "deletable": true,
    "editable": true
   },
   "outputs": [],
   "source": [
    "sess.run(tf.global_variables_initializer())"
   ]
  },
  {
   "cell_type": "code",
   "execution_count": 16,
   "metadata": {
    "collapsed": false,
    "deletable": true,
    "editable": true
   },
   "outputs": [
    {
     "data": {
      "text/plain": [
       "array([[[ 0.95751595,  0.        ,  0.96269631,  2.18120623],\n",
       "        [ 0.        ,  0.        ,  2.34822226,  2.94206524]]], dtype=float32)"
      ]
     },
     "execution_count": 16,
     "metadata": {},
     "output_type": "execute_result"
    }
   ],
   "source": [
    "sess.run(\n",
    "    feature_from_A,\n",
    "    {\n",
    "        inputs_A: np.array([\n",
    "            [[1,2,3], [3,2,1]]\n",
    "        ])  # 3D array - batch of sequences of feature vectors\n",
    "    }\n",
    ")"
   ]
  },
  {
   "cell_type": "code",
   "execution_count": 9,
   "metadata": {
    "collapsed": true,
    "deletable": true,
    "editable": true
   },
   "outputs": [],
   "source": [
    "mask_A = tf.placeholder('float32', shape=(None, None, 1), name='mask_A')\n",
    "mask_B = tf.placeholder('float32', shape=(None, None, 1), name='mask_B')"
   ]
  },
  {
   "cell_type": "code",
   "execution_count": 51,
   "metadata": {
    "collapsed": false,
    "deletable": true,
    "editable": true
   },
   "outputs": [],
   "source": [
    "feature_from_A_masked = feature_from_A * mask_A \n",
    "feature_from_B_masked = feature_from_B * mask_B"
   ]
  },
  {
   "cell_type": "code",
   "execution_count": 61,
   "metadata": {
    "collapsed": false,
    "deletable": true,
    "editable": true
   },
   "outputs": [
    {
     "data": {
      "text/plain": [
       "array([[[ 0.95751595,  0.        ,  0.96269631,  2.18120623],\n",
       "        [ 0.        ,  0.        ,  0.        ,  0.        ]]], dtype=float32)"
      ]
     },
     "execution_count": 61,
     "metadata": {},
     "output_type": "execute_result"
    }
   ],
   "source": [
    "sess.run(\n",
    "    feature_from_A_masked,\n",
    "    {\n",
    "        inputs_A: np.array([\n",
    "            [[1,2,3], [np.nan, np.nan, np.nan]]  # makes more sense to pad with zeros though!\n",
    "        ]),\n",
    "        mask_A: np.array([\n",
    "            [[1], [0]]\n",
    "        ])\n",
    "    }\n",
    ")"
   ]
  },
  {
   "cell_type": "code",
   "execution_count": 53,
   "metadata": {
    "collapsed": false,
    "deletable": true,
    "editable": true
   },
   "outputs": [],
   "source": [
    "feature_sequences = feature_from_A_masked + feature_from_B_masked"
   ]
  },
  {
   "cell_type": "markdown",
   "metadata": {},
   "source": [
    "## Data Preprocessing and Padding"
   ]
  },
  {
   "cell_type": "markdown",
   "metadata": {
    "deletable": true,
    "editable": true
   },
   "source": [
    "So now we've achieved data type dependent feature extraction - still need to format the data to the required batch format and we can _not_ deal with different lenght of sequences in batch without introducing additional paddaing"
   ]
  },
  {
   "cell_type": "code",
   "execution_count": 58,
   "metadata": {
    "collapsed": false,
    "deletable": true,
    "editable": true
   },
   "outputs": [],
   "source": [
    "input_sequences = [\n",
    "    [\n",
    "        {'type': 'A', 'data': [1, 2, 3]},\n",
    "        {'type': 'B', 'data': [5, 4, 3, 2, 1]},\n",
    "        {'type': 'A', 'data': [3, 2, 1]},\n",
    "    ],\n",
    "    [\n",
    "        {'type': 'B', 'data': [1, 2, 3, 4, 5]},\n",
    "        {'type': 'B', 'data': [5, 4, 3, 2, 1]},\n",
    "        {'type': 'A', 'data': [3, 2, 1]},\n",
    "    ]\n",
    "]\n",
    "\n",
    "N = len(input_sequences)\n",
    "T = len(input_sequences[0])\n",
    "\n",
    "assert all([len(in_seq) == T for in_seq in input_sequences])\n",
    "# all input sequences must have same lenght or we need to introduce additional padding\n",
    "\n",
    "\n",
    "inputs = {\n",
    "    'A': np.zeros((N, T, A_SIZE)),\n",
    "    'B': np.zeros((N, T, B_SIZE))\n",
    "}\n",
    "masks = {\n",
    "    'A': np.zeros((N, T, 1)),\n",
    "    'B': np.zeros((N, T, 1))\n",
    "}\n",
    "\n",
    "for n, in_seq in enumerate(input_sequences):\n",
    "    for t, input_ in enumerate(in_seq): \n",
    "        inputs[input_['type']][n, t, :] = np.array(input_['data'])\n",
    "        masks[input_['type']][n, t, 0] = 1\n",
    "        \n",
    "feed_dict = {\n",
    "    inputs_A: inputs['A'],\n",
    "    mask_A: masks['A'],\n",
    "    inputs_B: inputs['B'],\n",
    "    mask_B: masks['B']\n",
    "}"
   ]
  },
  {
   "cell_type": "code",
   "execution_count": 59,
   "metadata": {
    "collapsed": false
   },
   "outputs": [
    {
     "name": "stdout",
     "output_type": "stream",
     "text": [
      "Tensor(\"inputs_A:0\", shape=(?, ?, 3), dtype=float32)\n",
      "[[[ 1.  2.  3.]\n",
      "  [ 0.  0.  0.]\n",
      "  [ 3.  2.  1.]]\n",
      "\n",
      " [[ 0.  0.  0.]\n",
      "  [ 0.  0.  0.]\n",
      "  [ 3.  2.  1.]]]\n",
      "Tensor(\"mask_A:0\", shape=(?, ?, 1), dtype=float32)\n",
      "[[[ 1.]\n",
      "  [ 0.]\n",
      "  [ 1.]]\n",
      "\n",
      " [[ 0.]\n",
      "  [ 0.]\n",
      "  [ 1.]]]\n",
      "Tensor(\"inputs_B:0\", shape=(?, ?, 5), dtype=float32)\n",
      "[[[ 0.  0.  0.  0.  0.]\n",
      "  [ 5.  4.  3.  2.  1.]\n",
      "  [ 0.  0.  0.  0.  0.]]\n",
      "\n",
      " [[ 1.  2.  3.  4.  5.]\n",
      "  [ 5.  4.  3.  2.  1.]\n",
      "  [ 0.  0.  0.  0.  0.]]]\n",
      "Tensor(\"mask_B:0\", shape=(?, ?, 1), dtype=float32)\n",
      "[[[ 0.]\n",
      "  [ 1.]\n",
      "  [ 0.]]\n",
      "\n",
      " [[ 1.]\n",
      "  [ 1.]\n",
      "  [ 0.]]]\n"
     ]
    }
   ],
   "source": [
    "for tensor, data in feed_dict.items():\n",
    "    print(tensor)\n",
    "    print(data)"
   ]
  },
  {
   "cell_type": "code",
   "execution_count": 57,
   "metadata": {
    "collapsed": false,
    "deletable": true,
    "editable": true
   },
   "outputs": [
    {
     "data": {
      "text/plain": [
       "array([[[ 0.95751595,  0.        ,  0.96269631,  2.18120623],\n",
       "        [ 0.        ,  0.        ,  3.16037989,  0.        ],\n",
       "        [ 0.        ,  0.        ,  2.34822226,  2.94206524]],\n",
       "\n",
       "       [[ 1.83501148,  0.        ,  0.        ,  0.        ],\n",
       "        [ 0.        ,  0.        ,  3.16037989,  0.        ],\n",
       "        [ 0.        ,  0.        ,  2.34822226,  2.94206524]]], dtype=float32)"
      ]
     },
     "execution_count": 57,
     "metadata": {},
     "output_type": "execute_result"
    }
   ],
   "source": [
    "sess.run(feature_sequences, feed_dict)"
   ]
  },
  {
   "cell_type": "code",
   "execution_count": null,
   "metadata": {
    "collapsed": true,
    "deletable": true,
    "editable": true
   },
   "outputs": [],
   "source": []
  }
 ],
 "metadata": {
  "kernelspec": {
   "display_name": "Python 2",
   "language": "python",
   "name": "python2"
  },
  "language_info": {
   "codemirror_mode": {
    "name": "ipython",
    "version": 2
   },
   "file_extension": ".py",
   "mimetype": "text/x-python",
   "name": "python",
   "nbconvert_exporter": "python",
   "pygments_lexer": "ipython2",
   "version": "2.7.6"
  }
 },
 "nbformat": 4,
 "nbformat_minor": 2
}
